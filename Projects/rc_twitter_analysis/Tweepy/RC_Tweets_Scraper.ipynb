{
 "cells": [
  {
   "cell_type": "markdown",
   "metadata": {},
   "source": [
    "## Scraping Tweets"
   ]
  },
  {
   "cell_type": "code",
   "execution_count": 1,
   "metadata": {},
   "outputs": [],
   "source": [
    "import tweepy\n",
    "import pandas as pd\n",
    "import matplotlib.pyplot as plt; plt.rcdefaults()\n",
    "import matplotlib.dates as mdates\n",
    "import numpy as np\n",
    "import seaborn as sns\n",
    "\n",
    "\n",
    "import nltk\n",
    "#nltk.download('punkt')\n",
    "#nltk.download('wordnet')\n",
    "from nltk import sent_tokenize, word_tokenize\n",
    "from nltk.stem.snowball import SnowballStemmer\n",
    "from nltk.stem.wordnet import WordNetLemmatizer\n",
    "from nltk.corpus import stopwords\n",
    "import re  \n",
    "import spacy\n",
    "from collections import Counter"
   ]
  },
  {
   "cell_type": "code",
   "execution_count": 2,
   "metadata": {},
   "outputs": [],
   "source": [
    "nlp = spacy.load('es_core_news_sm') #en_core_news_lg"
   ]
  },
  {
   "cell_type": "code",
   "execution_count": 3,
   "metadata": {},
   "outputs": [],
   "source": [
    "%run ./keys.ipynb"
   ]
  },
  {
   "cell_type": "code",
   "execution_count": 4,
   "metadata": {},
   "outputs": [],
   "source": [
    "auth = tweepy.OAuthHandler(consumer_key, consumer_secret)\n",
    "auth.set_access_token(access_token, access_token_secret)\n",
    "api = tweepy.API(auth)"
   ]
  },
  {
   "cell_type": "code",
   "execution_count": 5,
   "metadata": {},
   "outputs": [
    {
     "data": {
      "text/plain": [
       "'emiliomantilla6'"
      ]
     },
     "execution_count": 5,
     "metadata": {},
     "output_type": "execute_result"
    }
   ],
   "source": [
    "api.me().screen_name"
   ]
  },
  {
   "cell_type": "code",
   "execution_count": 6,
   "metadata": {},
   "outputs": [],
   "source": [
    "my_timeline = api.home_timeline()"
   ]
  },
  {
   "cell_type": "markdown",
   "metadata": {},
   "source": [
    "#### Scraping User's timeline tweets (new version):"
   ]
  },
  {
   "cell_type": "code",
   "execution_count": null,
   "metadata": {},
   "outputs": [],
   "source": [
    "# Code from https://github.com/codingforentrepreneurs/30-Days-of-Python/blob/master/tutorial-reference/Day%2021/3%20-%20My%20Timeline%20%26%20User%20Timeline.ipynb\n",
    "\n",
    "#def extract_timeline_as_df(timeline_list):\n",
    "#    columns = set()\n",
    "#    allowed_types = [str, int]\n",
    "#    tweets_data = []\n",
    "#    for status in timeline_list:\n",
    "#        status_dict = dict(vars(status))\n",
    "#        keys = status_dict.keys()\n",
    "#        single_tweet_data = {\"user\": status.user.screen_name, \"author\": status.author.screen_name}\n",
    "#        for k in keys:\n",
    "#            try:\n",
    "#                v_type = type(status_dict[k])\n",
    "#            except:\n",
    "#                v_type = None\n",
    "#            if v_type != None:\n",
    "#                if v_type in allowed_types:\n",
    "#                    single_tweet_data[k] = status_dict[k]\n",
    "#                    columns.add(k)\n",
    "#        tweets_data.append(single_tweet_data)\n",
    "\n",
    "\n",
    "#    header_cols = list(columns)\n",
    "#    header_cols.append(\"user\")\n",
    "#    header_cols.append('author')\n",
    "#    df = pd.DataFrame(tweets_data, columns=header_cols)\n",
    "#    return df"
   ]
  },
  {
   "cell_type": "code",
   "execution_count": null,
   "metadata": {},
   "outputs": [],
   "source": [
    "#user = api.get_user(\"MashiRafael\")\n",
    "#user_timeline = user.timeline()\n",
    "#df3 = extract_timeline_as_df(user_timeline)\n",
    "#df3"
   ]
  },
  {
   "cell_type": "markdown",
   "metadata": {},
   "source": [
    "#### Scraping User's timeline tweets (old version):"
   ]
  },
  {
   "cell_type": "code",
   "execution_count": 7,
   "metadata": {},
   "outputs": [],
   "source": [
    "cursor = tweepy.Cursor(api.user_timeline,id=\"MashiRafael\",tweet_mode=\"extended\").items(1)"
   ]
  },
  {
   "cell_type": "code",
   "execution_count": 8,
   "metadata": {},
   "outputs": [
    {
     "name": "stdout",
     "output_type": "stream",
     "text": [
      "['__class__', '__delattr__', '__dict__', '__dir__', '__doc__', '__eq__', '__format__', '__ge__', '__getattribute__', '__getstate__', '__gt__', '__hash__', '__init__', '__init_subclass__', '__le__', '__lt__', '__module__', '__ne__', '__new__', '__reduce__', '__reduce_ex__', '__repr__', '__setattr__', '__sizeof__', '__str__', '__subclasshook__', '__weakref__', '_api', '_json', 'author', 'contributors', 'coordinates', 'created_at', 'destroy', 'display_text_range', 'entities', 'favorite', 'favorite_count', 'favorited', 'full_text', 'geo', 'id', 'id_str', 'in_reply_to_screen_name', 'in_reply_to_status_id', 'in_reply_to_status_id_str', 'in_reply_to_user_id', 'in_reply_to_user_id_str', 'is_quote_status', 'lang', 'parse', 'parse_list', 'place', 'retweet', 'retweet_count', 'retweeted', 'retweeted_status', 'retweets', 'source', 'source_url', 'truncated', 'user']\n"
     ]
    }
   ],
   "source": [
    "#for i in cursor: #Not very informative\n",
    "#    print(i)\n",
    "    \n",
    "for i in cursor: # To see available things you could extract from cursor object. e.g. text\n",
    "    print(dir(i))\n",
    "\n",
    "#for i in cursor:\n",
    "#    print(i.retweet_count)"
   ]
  },
  {
   "cell_type": "code",
   "execution_count": 9,
   "metadata": {},
   "outputs": [],
   "source": [
    "# Taken from this link:\n",
    "# https://www.youtube.com/watch?v=bNDRiaFyLrs\n",
    "\n",
    "number_of_tweets =4000 #Change accordingly to pull latest number of tweets. Limit seems to be 3240\n",
    "user = []\n",
    "author = []\n",
    "id_ = []\n",
    "id_str = []\n",
    "tweets = []\n",
    "language = []\n",
    "source = []\n",
    "source_url = []\n",
    "retweet_count = []\n",
    "likes = []\n",
    "time = []\n",
    "\n",
    "for i in tweepy.Cursor(api.user_timeline, id=\"MashiRafael\", tweet_mode=\"extended\").items(number_of_tweets): #\"extended\"\n",
    "    #tweets.append(i.text)\n",
    "    user.append(i.user.screen_name)\n",
    "    author.append(i.author.screen_name)\n",
    "    id_.append(i.id)\n",
    "    id_str.append(i.id_str)\n",
    "    tweets.append(i.full_text)\n",
    "    language.append(i.lang)\n",
    "    source.append(i.source)\n",
    "    source_url.append(i.source_url)\n",
    "    retweet_count.append(i.retweet_count)\n",
    "    likes.append(i.favorite_count)\n",
    "    time.append(i.created_at)"
   ]
  },
  {
   "cell_type": "code",
   "execution_count": 10,
   "metadata": {},
   "outputs": [],
   "source": [
    "df = pd.DataFrame({'user':user,'author':author,'id':id_,'id_str':id_str,\n",
    "                   'tweets':tweets,'language':language,'source':source,'source_url':source_url,\n",
    "                   'retweet_count':retweet_count,'likes':likes,'time':time})"
   ]
  },
  {
   "cell_type": "code",
   "execution_count": 11,
   "metadata": {
    "scrolled": true
   },
   "outputs": [
    {
     "data": {
      "text/html": [
       "<div>\n",
       "<style scoped>\n",
       "    .dataframe tbody tr th:only-of-type {\n",
       "        vertical-align: middle;\n",
       "    }\n",
       "\n",
       "    .dataframe tbody tr th {\n",
       "        vertical-align: top;\n",
       "    }\n",
       "\n",
       "    .dataframe thead th {\n",
       "        text-align: right;\n",
       "    }\n",
       "</style>\n",
       "<table border=\"1\" class=\"dataframe\">\n",
       "  <thead>\n",
       "    <tr style=\"text-align: right;\">\n",
       "      <th></th>\n",
       "      <th>user</th>\n",
       "      <th>author</th>\n",
       "      <th>id</th>\n",
       "      <th>id_str</th>\n",
       "      <th>tweets</th>\n",
       "      <th>language</th>\n",
       "      <th>source</th>\n",
       "      <th>source_url</th>\n",
       "      <th>retweet_count</th>\n",
       "      <th>likes</th>\n",
       "      <th>time</th>\n",
       "    </tr>\n",
       "  </thead>\n",
       "  <tbody>\n",
       "    <tr>\n",
       "      <th>0</th>\n",
       "      <td>MashiRafael</td>\n",
       "      <td>MashiRafael</td>\n",
       "      <td>1486469645897019400</td>\n",
       "      <td>1486469645897019400</td>\n",
       "      <td>RT @relicheandres: BANCOCRACIA \\n\\n287 mil (do...</td>\n",
       "      <td>es</td>\n",
       "      <td>Twitter for iPhone</td>\n",
       "      <td>http://twitter.com/download/iphone</td>\n",
       "      <td>177</td>\n",
       "      <td>0</td>\n",
       "      <td>2022-01-26 22:42:35</td>\n",
       "    </tr>\n",
       "    <tr>\n",
       "      <th>1</th>\n",
       "      <td>MashiRafael</td>\n",
       "      <td>MashiRafael</td>\n",
       "      <td>1486433624866140163</td>\n",
       "      <td>1486433624866140163</td>\n",
       "      <td>https://t.co/Qii4tz3VZd</td>\n",
       "      <td>und</td>\n",
       "      <td>Twitter for iPhone</td>\n",
       "      <td>http://twitter.com/download/iphone</td>\n",
       "      <td>236</td>\n",
       "      <td>456</td>\n",
       "      <td>2022-01-26 20:19:27</td>\n",
       "    </tr>\n",
       "    <tr>\n",
       "      <th>2</th>\n",
       "      <td>MashiRafael</td>\n",
       "      <td>MashiRafael</td>\n",
       "      <td>1486416582914060290</td>\n",
       "      <td>1486416582914060290</td>\n",
       "      <td>RT @MashiRafael: 🇪🇨🇪🇨🇪🇨\\nNo fue casualidad. Fu...</td>\n",
       "      <td>es</td>\n",
       "      <td>Twitter for iPhone</td>\n",
       "      <td>http://twitter.com/download/iphone</td>\n",
       "      <td>439</td>\n",
       "      <td>0</td>\n",
       "      <td>2022-01-26 19:11:44</td>\n",
       "    </tr>\n",
       "    <tr>\n",
       "      <th>3</th>\n",
       "      <td>MashiRafael</td>\n",
       "      <td>MashiRafael</td>\n",
       "      <td>1486415886609170436</td>\n",
       "      <td>1486415886609170436</td>\n",
       "      <td>RT @MashiRafael: 🇪🇨🇪🇨🇪🇨\\nEcuatorianos:\\nTomen ...</td>\n",
       "      <td>es</td>\n",
       "      <td>Twitter for iPhone</td>\n",
       "      <td>http://twitter.com/download/iphone</td>\n",
       "      <td>1314</td>\n",
       "      <td>0</td>\n",
       "      <td>2022-01-26 19:08:58</td>\n",
       "    </tr>\n",
       "    <tr>\n",
       "      <th>4</th>\n",
       "      <td>MashiRafael</td>\n",
       "      <td>MashiRafael</td>\n",
       "      <td>1486413954737967105</td>\n",
       "      <td>1486413954737967105</td>\n",
       "      <td>🇪🇨🇪🇨🇪🇨\\nEsta es la verdad histórica, con DATOS...</td>\n",
       "      <td>es</td>\n",
       "      <td>Twitter for iPhone</td>\n",
       "      <td>http://twitter.com/download/iphone</td>\n",
       "      <td>188</td>\n",
       "      <td>293</td>\n",
       "      <td>2022-01-26 19:01:17</td>\n",
       "    </tr>\n",
       "    <tr>\n",
       "      <th>...</th>\n",
       "      <td>...</td>\n",
       "      <td>...</td>\n",
       "      <td>...</td>\n",
       "      <td>...</td>\n",
       "      <td>...</td>\n",
       "      <td>...</td>\n",
       "      <td>...</td>\n",
       "      <td>...</td>\n",
       "      <td>...</td>\n",
       "      <td>...</td>\n",
       "      <td>...</td>\n",
       "    </tr>\n",
       "    <tr>\n",
       "      <th>3237</th>\n",
       "      <td>MashiRafael</td>\n",
       "      <td>MashiRafael</td>\n",
       "      <td>1454861081936023556</td>\n",
       "      <td>1454861081936023556</td>\n",
       "      <td>Más humillación para el país por la evidente p...</td>\n",
       "      <td>es</td>\n",
       "      <td>Twitter for iPhone</td>\n",
       "      <td>http://twitter.com/download/iphone</td>\n",
       "      <td>335</td>\n",
       "      <td>563</td>\n",
       "      <td>2021-10-31 17:21:26</td>\n",
       "    </tr>\n",
       "    <tr>\n",
       "      <th>3238</th>\n",
       "      <td>MashiRafael</td>\n",
       "      <td>MashiRafael</td>\n",
       "      <td>1454857627620585476</td>\n",
       "      <td>1454857627620585476</td>\n",
       "      <td>🇪🇨🇪🇨🇪🇨\\nEsto es EXTREMADAMENTE grave. Las rese...</td>\n",
       "      <td>es</td>\n",
       "      <td>Twitter for iPhone</td>\n",
       "      <td>http://twitter.com/download/iphone</td>\n",
       "      <td>406</td>\n",
       "      <td>612</td>\n",
       "      <td>2021-10-31 17:07:43</td>\n",
       "    </tr>\n",
       "    <tr>\n",
       "      <th>3239</th>\n",
       "      <td>MashiRafael</td>\n",
       "      <td>MashiRafael</td>\n",
       "      <td>1454857080859414533</td>\n",
       "      <td>1454857080859414533</td>\n",
       "      <td>🇪🇨🇪🇨🇪🇨\\nSi no están obligados a regresar al pa...</td>\n",
       "      <td>es</td>\n",
       "      <td>Twitter for iPhone</td>\n",
       "      <td>http://twitter.com/download/iphone</td>\n",
       "      <td>638</td>\n",
       "      <td>1175</td>\n",
       "      <td>2021-10-31 17:05:32</td>\n",
       "    </tr>\n",
       "    <tr>\n",
       "      <th>3240</th>\n",
       "      <td>MashiRafael</td>\n",
       "      <td>MashiRafael</td>\n",
       "      <td>1454855989975556099</td>\n",
       "      <td>1454855989975556099</td>\n",
       "      <td>En la Sainte Chapelle de París, en mi avión pr...</td>\n",
       "      <td>es</td>\n",
       "      <td>Twitter for iPhone</td>\n",
       "      <td>http://twitter.com/download/iphone</td>\n",
       "      <td>655</td>\n",
       "      <td>2533</td>\n",
       "      <td>2021-10-31 17:01:12</td>\n",
       "    </tr>\n",
       "    <tr>\n",
       "      <th>3241</th>\n",
       "      <td>MashiRafael</td>\n",
       "      <td>MashiRafael</td>\n",
       "      <td>1454854311733825540</td>\n",
       "      <td>1454854311733825540</td>\n",
       "      <td>RT @pameaguirre1: LA FRONTERA NORTE SE QUEDA S...</td>\n",
       "      <td>es</td>\n",
       "      <td>Twitter for iPhone</td>\n",
       "      <td>http://twitter.com/download/iphone</td>\n",
       "      <td>1373</td>\n",
       "      <td>0</td>\n",
       "      <td>2021-10-31 16:54:32</td>\n",
       "    </tr>\n",
       "  </tbody>\n",
       "</table>\n",
       "<p>3242 rows × 11 columns</p>\n",
       "</div>"
      ],
      "text/plain": [
       "             user       author                   id               id_str  \\\n",
       "0     MashiRafael  MashiRafael  1486469645897019400  1486469645897019400   \n",
       "1     MashiRafael  MashiRafael  1486433624866140163  1486433624866140163   \n",
       "2     MashiRafael  MashiRafael  1486416582914060290  1486416582914060290   \n",
       "3     MashiRafael  MashiRafael  1486415886609170436  1486415886609170436   \n",
       "4     MashiRafael  MashiRafael  1486413954737967105  1486413954737967105   \n",
       "...           ...          ...                  ...                  ...   \n",
       "3237  MashiRafael  MashiRafael  1454861081936023556  1454861081936023556   \n",
       "3238  MashiRafael  MashiRafael  1454857627620585476  1454857627620585476   \n",
       "3239  MashiRafael  MashiRafael  1454857080859414533  1454857080859414533   \n",
       "3240  MashiRafael  MashiRafael  1454855989975556099  1454855989975556099   \n",
       "3241  MashiRafael  MashiRafael  1454854311733825540  1454854311733825540   \n",
       "\n",
       "                                                 tweets language  \\\n",
       "0     RT @relicheandres: BANCOCRACIA \\n\\n287 mil (do...       es   \n",
       "1                               https://t.co/Qii4tz3VZd      und   \n",
       "2     RT @MashiRafael: 🇪🇨🇪🇨🇪🇨\\nNo fue casualidad. Fu...       es   \n",
       "3     RT @MashiRafael: 🇪🇨🇪🇨🇪🇨\\nEcuatorianos:\\nTomen ...       es   \n",
       "4     🇪🇨🇪🇨🇪🇨\\nEsta es la verdad histórica, con DATOS...       es   \n",
       "...                                                 ...      ...   \n",
       "3237  Más humillación para el país por la evidente p...       es   \n",
       "3238  🇪🇨🇪🇨🇪🇨\\nEsto es EXTREMADAMENTE grave. Las rese...       es   \n",
       "3239  🇪🇨🇪🇨🇪🇨\\nSi no están obligados a regresar al pa...       es   \n",
       "3240  En la Sainte Chapelle de París, en mi avión pr...       es   \n",
       "3241  RT @pameaguirre1: LA FRONTERA NORTE SE QUEDA S...       es   \n",
       "\n",
       "                  source                          source_url  retweet_count  \\\n",
       "0     Twitter for iPhone  http://twitter.com/download/iphone            177   \n",
       "1     Twitter for iPhone  http://twitter.com/download/iphone            236   \n",
       "2     Twitter for iPhone  http://twitter.com/download/iphone            439   \n",
       "3     Twitter for iPhone  http://twitter.com/download/iphone           1314   \n",
       "4     Twitter for iPhone  http://twitter.com/download/iphone            188   \n",
       "...                  ...                                 ...            ...   \n",
       "3237  Twitter for iPhone  http://twitter.com/download/iphone            335   \n",
       "3238  Twitter for iPhone  http://twitter.com/download/iphone            406   \n",
       "3239  Twitter for iPhone  http://twitter.com/download/iphone            638   \n",
       "3240  Twitter for iPhone  http://twitter.com/download/iphone            655   \n",
       "3241  Twitter for iPhone  http://twitter.com/download/iphone           1373   \n",
       "\n",
       "      likes                time  \n",
       "0         0 2022-01-26 22:42:35  \n",
       "1       456 2022-01-26 20:19:27  \n",
       "2         0 2022-01-26 19:11:44  \n",
       "3         0 2022-01-26 19:08:58  \n",
       "4       293 2022-01-26 19:01:17  \n",
       "...     ...                 ...  \n",
       "3237    563 2021-10-31 17:21:26  \n",
       "3238    612 2021-10-31 17:07:43  \n",
       "3239   1175 2021-10-31 17:05:32  \n",
       "3240   2533 2021-10-31 17:01:12  \n",
       "3241      0 2021-10-31 16:54:32  \n",
       "\n",
       "[3242 rows x 11 columns]"
      ]
     },
     "execution_count": 11,
     "metadata": {},
     "output_type": "execute_result"
    }
   ],
   "source": [
    "df"
   ]
  },
  {
   "cell_type": "code",
   "execution_count": 12,
   "metadata": {},
   "outputs": [
    {
     "name": "stdout",
     "output_type": "stream",
     "text": [
      "<class 'pandas.core.frame.DataFrame'>\n",
      "RangeIndex: 3242 entries, 0 to 3241\n",
      "Data columns (total 11 columns):\n",
      " #   Column         Non-Null Count  Dtype         \n",
      "---  ------         --------------  -----         \n",
      " 0   user           3242 non-null   object        \n",
      " 1   author         3242 non-null   object        \n",
      " 2   id             3242 non-null   int64         \n",
      " 3   id_str         3242 non-null   object        \n",
      " 4   tweets         3242 non-null   object        \n",
      " 5   language       3242 non-null   object        \n",
      " 6   source         3242 non-null   object        \n",
      " 7   source_url     3242 non-null   object        \n",
      " 8   retweet_count  3242 non-null   int64         \n",
      " 9   likes          3242 non-null   int64         \n",
      " 10  time           3242 non-null   datetime64[ns]\n",
      "dtypes: datetime64[ns](1), int64(3), object(7)\n",
      "memory usage: 278.7+ KB\n"
     ]
    }
   ],
   "source": [
    "df.info()"
   ]
  },
  {
   "cell_type": "code",
   "execution_count": 13,
   "metadata": {},
   "outputs": [],
   "source": [
    "df['Hour'] = df['time'].dt.hour\n",
    "df['Date'] = df['time'].dt.date\n",
    "df['Date'] = pd.to_datetime(df['Date'])"
   ]
  },
  {
   "cell_type": "code",
   "execution_count": 14,
   "metadata": {},
   "outputs": [],
   "source": [
    "#df.to_csv(\"RC_Tweets_02242021_05142021.csv\")\n",
    "#df.to_csv(\"RC_Tweets_05142021_05172021.csv\")\n",
    "#df.to_csv(\"RC_Tweets_03012021_05282021.csv\")\n",
    "#df.to_csv(\"RC_Tweets_05292021_06052021.csv\")\n",
    "#df.to_csv(\"RC_Tweets_06052021_06222021.csv\")\n",
    "df.to_csv(\"RC_Tweets_103121_012622.csv\")"
   ]
  }
 ],
 "metadata": {
  "kernelspec": {
   "display_name": "Python 3",
   "language": "python",
   "name": "python3"
  },
  "language_info": {
   "codemirror_mode": {
    "name": "ipython",
    "version": 3
   },
   "file_extension": ".py",
   "mimetype": "text/x-python",
   "name": "python",
   "nbconvert_exporter": "python",
   "pygments_lexer": "ipython3",
   "version": "3.8.8"
  }
 },
 "nbformat": 4,
 "nbformat_minor": 4
}
